{
 "cells": [
  {
   "cell_type": "code",
   "execution_count": 1,
   "metadata": {},
   "outputs": [],
   "source": [
    "# Уровень 0:\n",
    "# Даны вектора x=(1,1), y=(2, 0) и z = (0,2)\n",
    "# Надо:\n",
    "# Изобразить вектора на экране\n",
    "# Изобразить точку x + y + z\n",
    "# Найти угол между векторами x и y\n",
    "\n",
    "# Уровень 1:\n",
    "# Даны дома из Бостона\n",
    "# Выбрать любые n домов, образующих базис в пространстве признаков дома (все колонки, кроме medv)\n",
    "# Написать код разложения дома по указанному базису"
   ]
  },
  {
   "cell_type": "code",
   "execution_count": 80,
   "metadata": {},
   "outputs": [],
   "source": [
    "import numpy as np\n",
    "import matplotlib.pyplot as plt\n",
    "%matplotlib inline"
   ]
  },
  {
   "cell_type": "markdown",
   "metadata": {},
   "source": [
    "# Изобразить вектора на экране"
   ]
  },
  {
   "cell_type": "code",
   "execution_count": 85,
   "metadata": {},
   "outputs": [],
   "source": [
    "x = (1,1)\n",
    "y = (2,0)\n",
    "z = (0,2)"
   ]
  },
  {
   "cell_type": "code",
   "execution_count": 87,
   "metadata": {},
   "outputs": [],
   "source": [
    "v = np.array([x,y,z])"
   ]
  },
  {
   "cell_type": "code",
   "execution_count": 91,
   "metadata": {},
   "outputs": [
    {
     "data": {
      "image/png": "[encoded data removed]",
      "text/plain": [
       "<Figure size 432x288 with 1 Axes>"
      ]
     },
     "metadata": {
      "needs_background": "light"
     },
     "output_type": "display_data"
    }
   ],
   "source": [
    "U, V = zip(*v)\n",
    "plt.figure()\n",
    "ax = plt.gca()\n",
    "ax.quiver([0,0,0], [0,0,0], U, V, angles='xy', scale_units='xy', color=['r','g','b'], scale=1)\n",
    "ax.set_xlim([-1, 5])\n",
    "ax.set_ylim([-1, 5])\n",
    "plt.draw()\n",
    "plt.show()"
   ]
  },
  {
   "cell_type": "markdown",
   "metadata": {},
   "source": [
    "# Изобразить точку x + y + z"
   ]
  },
  {
   "cell_type": "code",
   "execution_count": 97,
   "metadata": {},
   "outputs": [],
   "source": [
    "j = np.array(x) + np.array(y) + np.array(z)"
   ]
  },
  {
   "cell_type": "code",
   "execution_count": 103,
   "metadata": {},
   "outputs": [
    {
     "data": {
      "text/plain": [
       "[<matplotlib.lines.Line2D at 0x12b97d60>]"
      ]
     },
     "execution_count": 103,
     "metadata": {},
     "output_type": "execute_result"
    },
    {
     "data": {
      "image/png": "[encoded data removed]",
      "text/plain": [
       "<Figure size 432x288 with 1 Axes>"
      ]
     },
     "metadata": {
      "needs_background": "light"
     },
     "output_type": "display_data"
    }
   ],
   "source": [
    "plt.plot(*j, marker='o', markersize=3, color=\"red\")"
   ]
  },
  {
   "cell_type": "markdown",
   "metadata": {},
   "source": [
    "# Найти угол между векторами x и y"
   ]
  },
  {
   "cell_type": "code",
   "execution_count": 118,
   "metadata": {},
   "outputs": [],
   "source": [
    "xv = np.array(x)\n",
    "yv = np.array(y)"
   ]
  },
  {
   "cell_type": "code",
   "execution_count": 119,
   "metadata": {},
   "outputs": [],
   "source": [
    "xv_yv_dot = np.dot(xv, yv)"
   ]
  },
  {
   "cell_type": "code",
   "execution_count": 120,
   "metadata": {},
   "outputs": [],
   "source": [
    "leghth_xv = np.sqrt(np.dot(xv, xv))\n",
    "leghth_yv = np.sqrt(np.dot(yv, yv))"
   ]
  },
  {
   "cell_type": "code",
   "execution_count": 130,
   "metadata": {},
   "outputs": [],
   "source": [
    "cos_xy = xv_yv_dot / (leghth_xv * leghth_yv)"
   ]
  },
  {
   "cell_type": "code",
   "execution_count": 137,
   "metadata": {},
   "outputs": [],
   "source": [
    "acos_xy = np.arccos( cos_xy  ) * 360 / 2 / np.pi"
   ]
  },
  {
   "cell_type": "code",
   "execution_count": 139,
   "metadata": {},
   "outputs": [
    {
     "name": "stdout",
     "output_type": "stream",
     "text": [
      "Угол между векторами x и y равен: 45.00000000000001 градусов\n"
     ]
    }
   ],
   "source": [
    "print(f'Угол между векторами x и y равен: {acos_xy} градусов')"
   ]
  },
  {
   "cell_type": "code",
   "execution_count": null,
   "metadata": {},
   "outputs": [],
   "source": [
    "# Уровень 1:\n",
    "# Даны дома из Бостона\n",
    "# Выбрать любые n домов, образующих базис в пространстве признаков дома (все колонки, кроме medv)\n",
    "# Написать код разложения дома по указанному базису"
   ]
  },
  {
   "cell_type": "markdown",
   "metadata": {},
   "source": [
    "# Даны дома из Бостона"
   ]
  },
  {
   "cell_type": "code",
   "execution_count": 153,
   "metadata": {},
   "outputs": [],
   "source": [
    "import pandas as pd"
   ]
  },
  {
   "cell_type": "code",
   "execution_count": 154,
   "metadata": {},
   "outputs": [
    {
     "data": {
      "text/html": [
       "<div>\n",
       "<style scoped>\n",
       "    .dataframe tbody tr th:only-of-type {\n",
       "        vertical-align: middle;\n",
       "    }\n",
       "\n",
       "    .dataframe tbody tr th {\n",
       "        vertical-align: top;\n",
       "    }\n",
       "\n",
       "    .dataframe thead th {\n",
       "        text-align: right;\n",
       "    }\n",
       "</style>\n",
       "<table border=\"1\" class=\"dataframe\">\n",
       "  <thead>\n",
       "    <tr style=\"text-align: right;\">\n",
       "      <th></th>\n",
       "      <th>CRIM</th>\n",
       "      <th>ZN</th>\n",
       "      <th>INDUS</th>\n",
       "      <th>CHAS</th>\n",
       "      <th>NOX</th>\n",
       "      <th>RM</th>\n",
       "      <th>AGE</th>\n",
       "      <th>DIS</th>\n",
       "      <th>RAD</th>\n",
       "      <th>TAX</th>\n",
       "      <th>PTRATIO</th>\n",
       "      <th>B</th>\n",
       "      <th>LSTAT</th>\n",
       "      <th>MEDV</th>\n",
       "    </tr>\n",
       "  </thead>\n",
       "  <tbody>\n",
       "    <tr>\n",
       "      <th>0</th>\n",
       "      <td>0.00632</td>\n",
       "      <td>18.0</td>\n",
       "      <td>2.31</td>\n",
       "      <td>0</td>\n",
       "      <td>0.538</td>\n",
       "      <td>6.575</td>\n",
       "      <td>65.2</td>\n",
       "      <td>4.0900</td>\n",
       "      <td>1</td>\n",
       "      <td>296.0</td>\n",
       "      <td>15.3</td>\n",
       "      <td>396.90</td>\n",
       "      <td>4.98</td>\n",
       "      <td>24.0</td>\n",
       "    </tr>\n",
       "    <tr>\n",
       "      <th>1</th>\n",
       "      <td>0.02731</td>\n",
       "      <td>0.0</td>\n",
       "      <td>7.07</td>\n",
       "      <td>0</td>\n",
       "      <td>0.469</td>\n",
       "      <td>6.421</td>\n",
       "      <td>78.9</td>\n",
       "      <td>4.9671</td>\n",
       "      <td>2</td>\n",
       "      <td>242.0</td>\n",
       "      <td>17.8</td>\n",
       "      <td>396.90</td>\n",
       "      <td>9.14</td>\n",
       "      <td>21.6</td>\n",
       "    </tr>\n",
       "    <tr>\n",
       "      <th>2</th>\n",
       "      <td>0.02729</td>\n",
       "      <td>0.0</td>\n",
       "      <td>7.07</td>\n",
       "      <td>0</td>\n",
       "      <td>0.469</td>\n",
       "      <td>7.185</td>\n",
       "      <td>61.1</td>\n",
       "      <td>4.9671</td>\n",
       "      <td>2</td>\n",
       "      <td>242.0</td>\n",
       "      <td>17.8</td>\n",
       "      <td>392.83</td>\n",
       "      <td>4.03</td>\n",
       "      <td>34.7</td>\n",
       "    </tr>\n",
       "    <tr>\n",
       "      <th>3</th>\n",
       "      <td>0.03237</td>\n",
       "      <td>0.0</td>\n",
       "      <td>2.18</td>\n",
       "      <td>0</td>\n",
       "      <td>0.458</td>\n",
       "      <td>6.998</td>\n",
       "      <td>45.8</td>\n",
       "      <td>6.0622</td>\n",
       "      <td>3</td>\n",
       "      <td>222.0</td>\n",
       "      <td>18.7</td>\n",
       "      <td>394.63</td>\n",
       "      <td>2.94</td>\n",
       "      <td>33.4</td>\n",
       "    </tr>\n",
       "    <tr>\n",
       "      <th>4</th>\n",
       "      <td>0.06905</td>\n",
       "      <td>0.0</td>\n",
       "      <td>2.18</td>\n",
       "      <td>0</td>\n",
       "      <td>0.458</td>\n",
       "      <td>7.147</td>\n",
       "      <td>54.2</td>\n",
       "      <td>6.0622</td>\n",
       "      <td>3</td>\n",
       "      <td>222.0</td>\n",
       "      <td>18.7</td>\n",
       "      <td>396.90</td>\n",
       "      <td>5.33</td>\n",
       "      <td>36.2</td>\n",
       "    </tr>\n",
       "  </tbody>\n",
       "</table>\n",
       "</div>"
      ],
      "text/plain": [
       "      CRIM    ZN  INDUS  CHAS    NOX     RM   AGE     DIS  RAD    TAX  \\\n",
       "0  0.00632  18.0   2.31     0  0.538  6.575  65.2  4.0900    1  296.0   \n",
       "1  0.02731   0.0   7.07     0  0.469  6.421  78.9  4.9671    2  242.0   \n",
       "2  0.02729   0.0   7.07     0  0.469  7.185  61.1  4.9671    2  242.0   \n",
       "3  0.03237   0.0   2.18     0  0.458  6.998  45.8  6.0622    3  222.0   \n",
       "4  0.06905   0.0   2.18     0  0.458  7.147  54.2  6.0622    3  222.0   \n",
       "\n",
       "   PTRATIO       B  LSTAT  MEDV  \n",
       "0     15.3  396.90   4.98  24.0  \n",
       "1     17.8  396.90   9.14  21.6  \n",
       "2     17.8  392.83   4.03  34.7  \n",
       "3     18.7  394.63   2.94  33.4  \n",
       "4     18.7  396.90   5.33  36.2  "
      ]
     },
     "execution_count": 154,
     "metadata": {},
     "output_type": "execute_result"
    }
   ],
   "source": [
    "import ssl\n",
    "# следующая строчка подключает сертификат для защищенного соединения\n",
    "ssl._create_default_https_context = ssl._create_unverified_context\n",
    "url='http://yustiks.ru/dataset/housing.csv'\n",
    "names = ['CRIM', 'ZN', 'INDUS', 'CHAS', 'NOX', 'RM', 'AGE', 'DIS', 'RAD', 'TAX', 'PTRATIO', 'B', 'LSTAT', 'MEDV']\n",
    "data=pd.read_csv(url,  delim_whitespace=True, names=names)\n",
    "data.head()"
   ]
  },
  {
   "cell_type": "markdown",
   "metadata": {},
   "source": [
    "Основные значения:\n",
    "\n",
    "    CRIM: This is the per capita crime rate by town\n",
    "    ZN: This is the proportion of residential land zoned for lots larger than 25,000 sq.ft.\n",
    "    INDUS: This is the proportion of non-retail business acres per town.\n",
    "    CHAS: This is the Charles River dummy variable (this is equal to 1 if tract bounds river; 0 otherwise)\n",
    "    NOX: This is the nitric oxides concentration (parts per 10 million)\n",
    "    RM: This is the average number of rooms per dwelling\n",
    "    AGE: This is the proportion of owner-occupied units built prior to 1940\n",
    "    DIS: This is the weighted distances to five Boston employment centers\n",
    "    RAD: This is the index of accessibility to radial highways\n",
    "    TAX: This is the full-value property-tax rate per 10,000 dollars\n",
    "    PTRATIO: This is the pupil-teacher ratio by town\n",
    "    B: This is calculated as 1000(Bk — 0.63)², where Bk is the proportion of people of African American descent by town\n",
    "    LSTAT: This is the percentage lower status of the population\n",
    "    MEDV: This is the median value of owner-occupied homes in 1000 dollars\n",
    "\n"
   ]
  },
  {
   "cell_type": "markdown",
   "metadata": {},
   "source": [
    "# Выбрать любые n домов, образующих базис в пространстве признаков дома (все колонки, кроме medv)"
   ]
  },
  {
   "cell_type": "code",
   "execution_count": 155,
   "metadata": {},
   "outputs": [],
   "source": [
    "data = data.drop(\"MEDV\", axis=1)"
   ]
  },
  {
   "cell_type": "code",
   "execution_count": 160,
   "metadata": {},
   "outputs": [],
   "source": [
    "sample = data.sample(50)"
   ]
  },
  {
   "cell_type": "code",
   "execution_count": 161,
   "metadata": {},
   "outputs": [
    {
     "data": {
      "text/html": [
       "<div>\n",
       "<style scoped>\n",
       "    .dataframe tbody tr th:only-of-type {\n",
       "        vertical-align: middle;\n",
       "    }\n",
       "\n",
       "    .dataframe tbody tr th {\n",
       "        vertical-align: top;\n",
       "    }\n",
       "\n",
       "    .dataframe thead th {\n",
       "        text-align: right;\n",
       "    }\n",
       "</style>\n",
       "<table border=\"1\" class=\"dataframe\">\n",
       "  <thead>\n",
       "    <tr style=\"text-align: right;\">\n",
       "      <th></th>\n",
       "      <th>CRIM</th>\n",
       "      <th>ZN</th>\n",
       "      <th>INDUS</th>\n",
       "      <th>CHAS</th>\n",
       "      <th>NOX</th>\n",
       "      <th>RM</th>\n",
       "      <th>AGE</th>\n",
       "      <th>DIS</th>\n",
       "      <th>RAD</th>\n",
       "      <th>TAX</th>\n",
       "      <th>PTRATIO</th>\n",
       "      <th>B</th>\n",
       "      <th>LSTAT</th>\n",
       "    </tr>\n",
       "  </thead>\n",
       "  <tbody>\n",
       "    <tr>\n",
       "      <th>20</th>\n",
       "      <td>1.25179</td>\n",
       "      <td>0.0</td>\n",
       "      <td>8.14</td>\n",
       "      <td>0</td>\n",
       "      <td>0.538</td>\n",
       "      <td>5.570</td>\n",
       "      <td>98.1</td>\n",
       "      <td>3.7979</td>\n",
       "      <td>4</td>\n",
       "      <td>307.0</td>\n",
       "      <td>21.0</td>\n",
       "      <td>376.57</td>\n",
       "      <td>21.02</td>\n",
       "    </tr>\n",
       "    <tr>\n",
       "      <th>107</th>\n",
       "      <td>0.13117</td>\n",
       "      <td>0.0</td>\n",
       "      <td>8.56</td>\n",
       "      <td>0</td>\n",
       "      <td>0.520</td>\n",
       "      <td>6.127</td>\n",
       "      <td>85.2</td>\n",
       "      <td>2.1224</td>\n",
       "      <td>5</td>\n",
       "      <td>384.0</td>\n",
       "      <td>20.9</td>\n",
       "      <td>387.69</td>\n",
       "      <td>14.09</td>\n",
       "    </tr>\n",
       "    <tr>\n",
       "      <th>38</th>\n",
       "      <td>0.17505</td>\n",
       "      <td>0.0</td>\n",
       "      <td>5.96</td>\n",
       "      <td>0</td>\n",
       "      <td>0.499</td>\n",
       "      <td>5.966</td>\n",
       "      <td>30.2</td>\n",
       "      <td>3.8473</td>\n",
       "      <td>5</td>\n",
       "      <td>279.0</td>\n",
       "      <td>19.2</td>\n",
       "      <td>393.43</td>\n",
       "      <td>10.13</td>\n",
       "    </tr>\n",
       "    <tr>\n",
       "      <th>455</th>\n",
       "      <td>4.75237</td>\n",
       "      <td>0.0</td>\n",
       "      <td>18.10</td>\n",
       "      <td>0</td>\n",
       "      <td>0.713</td>\n",
       "      <td>6.525</td>\n",
       "      <td>86.5</td>\n",
       "      <td>2.4358</td>\n",
       "      <td>24</td>\n",
       "      <td>666.0</td>\n",
       "      <td>20.2</td>\n",
       "      <td>50.92</td>\n",
       "      <td>18.13</td>\n",
       "    </tr>\n",
       "    <tr>\n",
       "      <th>16</th>\n",
       "      <td>1.05393</td>\n",
       "      <td>0.0</td>\n",
       "      <td>8.14</td>\n",
       "      <td>0</td>\n",
       "      <td>0.538</td>\n",
       "      <td>5.935</td>\n",
       "      <td>29.3</td>\n",
       "      <td>4.4986</td>\n",
       "      <td>4</td>\n",
       "      <td>307.0</td>\n",
       "      <td>21.0</td>\n",
       "      <td>386.85</td>\n",
       "      <td>6.58</td>\n",
       "    </tr>\n",
       "  </tbody>\n",
       "</table>\n",
       "</div>"
      ],
      "text/plain": [
       "        CRIM   ZN  INDUS  CHAS    NOX     RM   AGE     DIS  RAD    TAX  \\\n",
       "20   1.25179  0.0   8.14     0  0.538  5.570  98.1  3.7979    4  307.0   \n",
       "107  0.13117  0.0   8.56     0  0.520  6.127  85.2  2.1224    5  384.0   \n",
       "38   0.17505  0.0   5.96     0  0.499  5.966  30.2  3.8473    5  279.0   \n",
       "455  4.75237  0.0  18.10     0  0.713  6.525  86.5  2.4358   24  666.0   \n",
       "16   1.05393  0.0   8.14     0  0.538  5.935  29.3  4.4986    4  307.0   \n",
       "\n",
       "     PTRATIO       B  LSTAT  \n",
       "20      21.0  376.57  21.02  \n",
       "107     20.9  387.69  14.09  \n",
       "38      19.2  393.43  10.13  \n",
       "455     20.2   50.92  18.13  \n",
       "16      21.0  386.85   6.58  "
      ]
     },
     "execution_count": 161,
     "metadata": {},
     "output_type": "execute_result"
    }
   ],
   "source": [
    "sample.head()"
   ]
  },
  {
   "cell_type": "markdown",
   "metadata": {},
   "source": [
    "# Написать код разложения дома по указанному базису"
   ]
  },
  {
   "cell_type": "code",
   "execution_count": 168,
   "metadata": {},
   "outputs": [
    {
     "data": {
      "text/plain": [
       "array([[1.25179e+00, 0.00000e+00, 8.14000e+00, 0.00000e+00, 5.38000e-01,\n",
       "        5.57000e+00, 9.81000e+01, 3.79790e+00, 4.00000e+00, 3.07000e+02,\n",
       "        2.10000e+01, 3.76570e+02, 2.10200e+01],\n",
       "       [1.31170e-01, 0.00000e+00, 8.56000e+00, 0.00000e+00, 5.20000e-01,\n",
       "        6.12700e+00, 8.52000e+01, 2.12240e+00, 5.00000e+00, 3.84000e+02,\n",
       "        2.09000e+01, 3.87690e+02, 1.40900e+01],\n",
       "       [1.75050e-01, 0.00000e+00, 5.96000e+00, 0.00000e+00, 4.99000e-01,\n",
       "        5.96600e+00, 3.02000e+01, 3.84730e+00, 5.00000e+00, 2.79000e+02,\n",
       "        1.92000e+01, 3.93430e+02, 1.01300e+01],\n",
       "       [4.75237e+00, 0.00000e+00, 1.81000e+01, 0.00000e+00, 7.13000e-01,\n",
       "        6.52500e+00, 8.65000e+01, 2.43580e+00, 2.40000e+01, 6.66000e+02,\n",
       "        2.02000e+01, 5.09200e+01, 1.81300e+01],\n",
       "       [1.05393e+00, 0.00000e+00, 8.14000e+00, 0.00000e+00, 5.38000e-01,\n",
       "        5.93500e+00, 2.93000e+01, 4.49860e+00, 4.00000e+00, 3.07000e+02,\n",
       "        2.10000e+01, 3.86850e+02, 6.58000e+00],\n",
       "       [1.15779e+01, 0.00000e+00, 1.81000e+01, 0.00000e+00, 7.00000e-01,\n",
       "        5.03600e+00, 9.70000e+01, 1.77000e+00, 2.40000e+01, 6.66000e+02,\n",
       "        2.02000e+01, 3.96900e+02, 2.56800e+01],\n",
       "       [2.83920e-01, 0.00000e+00, 7.38000e+00, 0.00000e+00, 4.93000e-01,\n",
       "        5.70800e+00, 7.43000e+01, 4.72110e+00, 5.00000e+00, 2.87000e+02,\n",
       "        1.96000e+01, 3.91130e+02, 1.17400e+01],\n",
       "       [8.81250e-01, 0.00000e+00, 2.18900e+01, 0.00000e+00, 6.24000e-01,\n",
       "        5.63700e+00, 9.47000e+01, 1.97990e+00, 4.00000e+00, 4.37000e+02,\n",
       "        2.12000e+01, 3.96900e+02, 1.83400e+01],\n",
       "       [1.18123e+01, 0.00000e+00, 1.81000e+01, 0.00000e+00, 7.18000e-01,\n",
       "        6.82400e+00, 7.65000e+01, 1.79400e+00, 2.40000e+01, 6.66000e+02,\n",
       "        2.02000e+01, 4.84500e+01, 2.27400e+01],\n",
       "       [9.82349e+00, 0.00000e+00, 1.81000e+01, 0.00000e+00, 6.71000e-01,\n",
       "        6.79400e+00, 9.88000e+01, 1.35800e+00, 2.40000e+01, 6.66000e+02,\n",
       "        2.02000e+01, 3.96900e+02, 2.12400e+01],\n",
       "       [3.57800e-02, 2.00000e+01, 3.33000e+00, 0.00000e+00, 4.42900e-01,\n",
       "        7.82000e+00, 6.45000e+01, 4.69470e+00, 5.00000e+00, 2.16000e+02,\n",
       "        1.49000e+01, 3.87310e+02, 3.76000e+00],\n",
       "       [3.03470e-01, 0.00000e+00, 7.38000e+00, 0.00000e+00, 4.93000e-01,\n",
       "        6.31200e+00, 2.89000e+01, 5.41590e+00, 5.00000e+00, 2.87000e+02,\n",
       "        1.96000e+01, 3.96900e+02, 6.15000e+00],\n",
       "       [3.53501e+00, 0.00000e+00, 1.95800e+01, 1.00000e+00, 8.71000e-01,\n",
       "        6.15200e+00, 8.26000e+01, 1.74550e+00, 5.00000e+00, 4.03000e+02,\n",
       "        1.47000e+01, 8.80100e+01, 1.50200e+01],\n",
       "       [6.39312e+00, 0.00000e+00, 1.81000e+01, 0.00000e+00, 5.84000e-01,\n",
       "        6.16200e+00, 9.74000e+01, 2.20600e+00, 2.40000e+01, 6.66000e+02,\n",
       "        2.02000e+01, 3.02760e+02, 2.41000e+01],\n",
       "       [2.17190e-01, 0.00000e+00, 1.05900e+01, 1.00000e+00, 4.89000e-01,\n",
       "        5.80700e+00, 5.38000e+01, 3.65260e+00, 4.00000e+00, 2.77000e+02,\n",
       "        1.86000e+01, 3.90940e+02, 1.60300e+01],\n",
       "       [8.70700e-02, 0.00000e+00, 1.28300e+01, 0.00000e+00, 4.37000e-01,\n",
       "        6.14000e+00, 4.58000e+01, 4.09050e+00, 5.00000e+00, 3.98000e+02,\n",
       "        1.87000e+01, 3.86960e+02, 1.02700e+01],\n",
       "       [9.18702e+00, 0.00000e+00, 1.81000e+01, 0.00000e+00, 7.00000e-01,\n",
       "        5.53600e+00, 1.00000e+02, 1.58040e+00, 2.40000e+01, 6.66000e+02,\n",
       "        2.02000e+01, 3.96900e+02, 2.36000e+01],\n",
       "       [3.29820e-01, 0.00000e+00, 2.18900e+01, 0.00000e+00, 6.24000e-01,\n",
       "        5.82200e+00, 9.54000e+01, 2.46990e+00, 4.00000e+00, 4.37000e+02,\n",
       "        2.12000e+01, 3.88690e+02, 1.50300e+01],\n",
       "       [3.39830e-01, 2.20000e+01, 5.86000e+00, 0.00000e+00, 4.31000e-01,\n",
       "        6.10800e+00, 3.49000e+01, 8.05550e+00, 7.00000e+00, 3.30000e+02,\n",
       "        1.91000e+01, 3.90180e+02, 9.16000e+00],\n",
       "       [2.72900e-02, 0.00000e+00, 7.07000e+00, 0.00000e+00, 4.69000e-01,\n",
       "        7.18500e+00, 6.11000e+01, 4.96710e+00, 2.00000e+00, 2.42000e+02,\n",
       "        1.78000e+01, 3.92830e+02, 4.03000e+00],\n",
       "       [5.20140e-01, 2.00000e+01, 3.97000e+00, 0.00000e+00, 6.47000e-01,\n",
       "        8.39800e+00, 9.15000e+01, 2.28850e+00, 5.00000e+00, 2.64000e+02,\n",
       "        1.30000e+01, 3.86860e+02, 5.91000e+00],\n",
       "       [6.12700e-02, 4.00000e+01, 6.41000e+00, 1.00000e+00, 4.47000e-01,\n",
       "        6.82600e+00, 2.76000e+01, 4.86280e+00, 4.00000e+00, 2.54000e+02,\n",
       "        1.76000e+01, 3.93450e+02, 4.16000e+00],\n",
       "       [2.17700e-02, 8.25000e+01, 2.03000e+00, 0.00000e+00, 4.15000e-01,\n",
       "        7.61000e+00, 1.57000e+01, 6.27000e+00, 2.00000e+00, 3.48000e+02,\n",
       "        1.47000e+01, 3.95380e+02, 3.11000e+00],\n",
       "       [9.72418e+00, 0.00000e+00, 1.81000e+01, 0.00000e+00, 7.40000e-01,\n",
       "        6.40600e+00, 9.72000e+01, 2.06510e+00, 2.40000e+01, 6.66000e+02,\n",
       "        2.02000e+01, 3.85960e+02, 1.95200e+01],\n",
       "       [9.23230e+00, 0.00000e+00, 1.81000e+01, 0.00000e+00, 6.31000e-01,\n",
       "        6.21600e+00, 1.00000e+02, 1.16910e+00, 2.40000e+01, 6.66000e+02,\n",
       "        2.02000e+01, 3.66150e+02, 9.53000e+00],\n",
       "       [1.28020e-01, 0.00000e+00, 8.56000e+00, 0.00000e+00, 5.20000e-01,\n",
       "        6.47400e+00, 9.71000e+01, 2.43290e+00, 5.00000e+00, 3.84000e+02,\n",
       "        2.09000e+01, 3.95240e+02, 1.22700e+01],\n",
       "       [9.37800e-02, 1.25000e+01, 7.87000e+00, 0.00000e+00, 5.24000e-01,\n",
       "        5.88900e+00, 3.90000e+01, 5.45090e+00, 5.00000e+00, 3.11000e+02,\n",
       "        1.52000e+01, 3.90500e+02, 1.57100e+01],\n",
       "       [6.26300e-02, 0.00000e+00, 1.19300e+01, 0.00000e+00, 5.73000e-01,\n",
       "        6.59300e+00, 6.91000e+01, 2.47860e+00, 1.00000e+00, 2.73000e+02,\n",
       "        2.10000e+01, 3.91990e+02, 9.67000e+00],\n",
       "       [1.36000e-02, 7.50000e+01, 4.00000e+00, 0.00000e+00, 4.10000e-01,\n",
       "        5.88800e+00, 4.76000e+01, 7.31970e+00, 3.00000e+00, 4.69000e+02,\n",
       "        2.11000e+01, 3.96900e+02, 1.48000e+01],\n",
       "       [3.30600e-02, 0.00000e+00, 5.19000e+00, 0.00000e+00, 5.15000e-01,\n",
       "        6.05900e+00, 3.73000e+01, 4.81220e+00, 5.00000e+00, 2.24000e+02,\n",
       "        2.02000e+01, 3.96140e+02, 8.51000e+00],\n",
       "       [5.58107e+00, 0.00000e+00, 1.81000e+01, 0.00000e+00, 7.13000e-01,\n",
       "        6.43600e+00, 8.79000e+01, 2.31580e+00, 2.40000e+01, 6.66000e+02,\n",
       "        2.02000e+01, 1.00190e+02, 1.62200e+01],\n",
       "       [1.25790e-01, 4.50000e+01, 3.44000e+00, 0.00000e+00, 4.37000e-01,\n",
       "        6.55600e+00, 2.91000e+01, 4.56670e+00, 5.00000e+00, 3.98000e+02,\n",
       "        1.52000e+01, 3.82840e+02, 4.56000e+00],\n",
       "       [6.58800e-02, 0.00000e+00, 2.46000e+00, 0.00000e+00, 4.88000e-01,\n",
       "        7.76500e+00, 8.33000e+01, 2.74100e+00, 3.00000e+00, 1.93000e+02,\n",
       "        1.78000e+01, 3.95560e+02, 7.56000e+00],\n",
       "       [7.87500e-02, 4.50000e+01, 3.44000e+00, 0.00000e+00, 4.37000e-01,\n",
       "        6.78200e+00, 4.11000e+01, 3.78860e+00, 5.00000e+00, 3.98000e+02,\n",
       "        1.52000e+01, 3.93870e+02, 6.68000e+00],\n",
       "       [9.55770e-01, 0.00000e+00, 8.14000e+00, 0.00000e+00, 5.38000e-01,\n",
       "        6.04700e+00, 8.88000e+01, 4.45340e+00, 4.00000e+00, 3.07000e+02,\n",
       "        2.10000e+01, 3.06380e+02, 1.72800e+01],\n",
       "       [1.22472e+01, 0.00000e+00, 1.81000e+01, 0.00000e+00, 5.84000e-01,\n",
       "        5.83700e+00, 5.97000e+01, 1.99760e+00, 2.40000e+01, 6.66000e+02,\n",
       "        2.02000e+01, 2.46500e+01, 1.56900e+01],\n",
       "       [1.67600e-01, 0.00000e+00, 7.38000e+00, 0.00000e+00, 4.93000e-01,\n",
       "        6.42600e+00, 5.23000e+01, 4.54040e+00, 5.00000e+00, 2.87000e+02,\n",
       "        1.96000e+01, 3.96900e+02, 7.20000e+00],\n",
       "       [5.29305e+00, 0.00000e+00, 1.81000e+01, 0.00000e+00, 7.00000e-01,\n",
       "        6.05100e+00, 8.25000e+01, 2.16780e+00, 2.40000e+01, 6.66000e+02,\n",
       "        2.02000e+01, 3.78380e+02, 1.87600e+01],\n",
       "       [3.69311e+00, 0.00000e+00, 1.81000e+01, 0.00000e+00, 7.13000e-01,\n",
       "        6.37600e+00, 8.84000e+01, 2.56710e+00, 2.40000e+01, 6.66000e+02,\n",
       "        2.02000e+01, 3.91430e+02, 1.46500e+01],\n",
       "       [5.73500e-02, 0.00000e+00, 4.49000e+00, 0.00000e+00, 4.49000e-01,\n",
       "        6.63000e+00, 5.61000e+01, 4.43770e+00, 3.00000e+00, 2.47000e+02,\n",
       "        1.85000e+01, 3.92300e+02, 6.53000e+00],\n",
       "       [2.07460e-01, 0.00000e+00, 2.77400e+01, 0.00000e+00, 6.09000e-01,\n",
       "        5.09300e+00, 9.80000e+01, 1.82260e+00, 4.00000e+00, 7.11000e+02,\n",
       "        2.01000e+01, 3.18430e+02, 2.96800e+01],\n",
       "       [9.16400e-02, 0.00000e+00, 1.08100e+01, 0.00000e+00, 4.13000e-01,\n",
       "        6.06500e+00, 7.80000e+00, 5.28730e+00, 4.00000e+00, 3.05000e+02,\n",
       "        1.92000e+01, 3.90910e+02, 5.52000e+00],\n",
       "       [6.16200e-02, 0.00000e+00, 4.39000e+00, 0.00000e+00, 4.42000e-01,\n",
       "        5.89800e+00, 5.23000e+01, 8.01360e+00, 3.00000e+00, 3.52000e+02,\n",
       "        1.88000e+01, 3.64610e+02, 1.26700e+01],\n",
       "       [1.71710e-01, 2.50000e+01, 5.13000e+00, 0.00000e+00, 4.53000e-01,\n",
       "        5.96600e+00, 9.34000e+01, 6.81850e+00, 8.00000e+00, 2.84000e+02,\n",
       "        1.97000e+01, 3.78080e+02, 1.44400e+01],\n",
       "       [1.01530e-01, 0.00000e+00, 1.28300e+01, 0.00000e+00, 4.37000e-01,\n",
       "        6.27900e+00, 7.45000e+01, 4.05220e+00, 5.00000e+00, 3.98000e+02,\n",
       "        1.87000e+01, 3.73660e+02, 1.19700e+01],\n",
       "       [1.31100e-02, 9.00000e+01, 1.22000e+00, 0.00000e+00, 4.03000e-01,\n",
       "        7.24900e+00, 2.19000e+01, 8.69660e+00, 5.00000e+00, 2.26000e+02,\n",
       "        1.79000e+01, 3.95930e+02, 4.81000e+00],\n",
       "       [1.13290e-01, 3.00000e+01, 4.93000e+00, 0.00000e+00, 4.28000e-01,\n",
       "        6.89700e+00, 5.43000e+01, 6.33610e+00, 6.00000e+00, 3.00000e+02,\n",
       "        1.66000e+01, 3.91250e+02, 1.13800e+01],\n",
       "       [1.49320e-01, 2.50000e+01, 5.13000e+00, 0.00000e+00, 4.53000e-01,\n",
       "        5.74100e+00, 6.62000e+01, 7.22540e+00, 8.00000e+00, 2.84000e+02,\n",
       "        1.97000e+01, 3.95110e+02, 1.31500e+01],\n",
       "       [5.37000e-01, 0.00000e+00, 6.20000e+00, 0.00000e+00, 5.04000e-01,\n",
       "        5.98100e+00, 6.81000e+01, 3.67150e+00, 8.00000e+00, 3.07000e+02,\n",
       "        1.74000e+01, 3.78350e+02, 1.16500e+01],\n",
       "       [1.58744e+01, 0.00000e+00, 1.81000e+01, 0.00000e+00, 6.71000e-01,\n",
       "        6.54500e+00, 9.91000e+01, 1.51920e+00, 2.40000e+01, 6.66000e+02,\n",
       "        2.02000e+01, 3.96900e+02, 2.10800e+01]])"
      ]
     },
     "execution_count": 168,
     "metadata": {},
     "output_type": "execute_result"
    }
   ],
   "source": [
    "#как вариант векторизации числовых данных\n",
    "sample.to_numpy()"
   ]
  },
  {
   "cell_type": "code",
   "execution_count": null,
   "metadata": {},
   "outputs": [],
   "source": []
  },
  {
   "cell_type": "code",
   "execution_count": null,
   "metadata": {},
   "outputs": [],
   "source": []
  },
  {
   "cell_type": "code",
   "execution_count": null,
   "metadata": {},
   "outputs": [],
   "source": []
  },
  {
   "cell_type": "code",
   "execution_count": null,
   "metadata": {},
   "outputs": [],
   "source": []
  }
 ],
 "metadata": {
  "kernelspec": {
   "display_name": "Python 3",
   "language": "python",
   "name": "python3"
  },
  "language_info": {
   "codemirror_mode": {
    "name": "ipython",
    "version": 3
   },
   "file_extension": ".py",
   "mimetype": "text/x-python",
   "name": "python",
   "nbconvert_exporter": "python",
   "pygments_lexer": "ipython3",
   "version": "3.8.2"
  }
 },
 "nbformat": 4,
 "nbformat_minor": 4
}
